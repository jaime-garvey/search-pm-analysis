{
 "cells": [
  {
   "cell_type": "code",
   "execution_count": 10,
   "id": "c252f30e",
   "metadata": {},
   "outputs": [],
   "source": [
    "library(data.table) \n",
    "library(StanHeaders)\n",
    "library(prophet)\n",
    "library(rstan)\n",
    "library(ggplot2)\n",
    "library(reticulate)\n",
    "library(Robyn)"
   ]
  },
  {
   "cell_type": "markdown",
   "id": "7a519cfb",
   "metadata": {},
   "source": [
    "# Training MMM Model Using Facebook's Robyn"
   ]
  },
  {
   "cell_type": "markdown",
   "id": "f83b6f7b",
   "metadata": {},
   "source": [
    "## Daily Model"
   ]
  },
  {
   "cell_type": "code",
   "execution_count": 42,
   "id": "0c9abecd",
   "metadata": {},
   "outputs": [
    {
     "data": {
      "text/html": [
       "<table class=\"dataframe\">\n",
       "<caption>A data.table: 6 × 16</caption>\n",
       "<thead>\n",
       "\t<tr><th scope=col>revenue</th><th scope=col>google_search_Bottom</th><th scope=col>google_search_Mid</th><th scope=col>google_search_Top</th><th scope=col>bing_search_Bottom</th><th scope=col>bing_search_Top</th><th scope=col>facebook_Bottom</th><th scope=col>facebook_Mid</th><th scope=col>facebook_Top</th><th scope=col>google</th><th scope=col>bing</th><th scope=col>fb</th><th scope=col>top</th><th scope=col>mid</th><th scope=col>bottom</th><th scope=col>date</th></tr>\n",
       "\t<tr><th scope=col>&lt;dbl&gt;</th><th scope=col>&lt;dbl&gt;</th><th scope=col>&lt;dbl&gt;</th><th scope=col>&lt;dbl&gt;</th><th scope=col>&lt;dbl&gt;</th><th scope=col>&lt;dbl&gt;</th><th scope=col>&lt;dbl&gt;</th><th scope=col>&lt;dbl&gt;</th><th scope=col>&lt;dbl&gt;</th><th scope=col>&lt;dbl&gt;</th><th scope=col>&lt;dbl&gt;</th><th scope=col>&lt;dbl&gt;</th><th scope=col>&lt;dbl&gt;</th><th scope=col>&lt;dbl&gt;</th><th scope=col>&lt;dbl&gt;</th><th scope=col>&lt;date&gt;</th></tr>\n",
       "</thead>\n",
       "<tbody>\n",
       "\t<tr><td>30638.84</td><td>248.73</td><td> 0.27</td><td>1286.40</td><td>17.23</td><td>49.94</td><td>121.58</td><td>220.94</td><td>5416.81</td><td>3070.80</td><td>134.34</td><td>5759.33</td><td>13506.30</td><td>442.42</td><td>775.08</td><td>2019-01-01</td></tr>\n",
       "\t<tr><td>30134.13</td><td>209.05</td><td> 1.94</td><td>1243.62</td><td>18.18</td><td>59.97</td><td>120.67</td><td>216.65</td><td>5711.90</td><td>2909.22</td><td>156.30</td><td>6049.22</td><td>14030.98</td><td>437.18</td><td>695.80</td><td>2019-01-02</td></tr>\n",
       "\t<tr><td>31172.54</td><td>232.55</td><td> 4.58</td><td>1349.84</td><td>18.48</td><td>52.71</td><td>119.48</td><td>220.88</td><td>7191.77</td><td>3173.94</td><td>142.38</td><td>7532.13</td><td>17188.64</td><td>450.92</td><td>741.02</td><td>2019-01-03</td></tr>\n",
       "\t<tr><td>22587.84</td><td>289.16</td><td> 7.50</td><td>1229.11</td><td>23.32</td><td>58.14</td><td>118.49</td><td>197.02</td><td>7005.19</td><td>3051.54</td><td>162.92</td><td>7320.70</td><td>16584.88</td><td>409.04</td><td>861.94</td><td>2019-01-04</td></tr>\n",
       "\t<tr><td>26166.98</td><td>281.36</td><td> 2.00</td><td>1422.20</td><td>18.90</td><td>46.91</td><td>121.03</td><td>196.41</td><td>5057.96</td><td>3411.12</td><td>131.62</td><td>5375.40</td><td>13054.14</td><td>396.82</td><td>842.58</td><td>2019-01-05</td></tr>\n",
       "\t<tr><td>32981.04</td><td>286.91</td><td>65.37</td><td>1738.27</td><td>24.53</td><td>59.58</td><td>120.51</td><td>196.31</td><td>5010.45</td><td>4181.10</td><td>168.22</td><td>5327.27</td><td>13616.60</td><td>523.36</td><td>863.90</td><td>2019-01-06</td></tr>\n",
       "</tbody>\n",
       "</table>\n"
      ],
      "text/latex": [
       "A data.table: 6 × 16\n",
       "\\begin{tabular}{llllllllllllllll}\n",
       " revenue & google\\_search\\_Bottom & google\\_search\\_Mid & google\\_search\\_Top & bing\\_search\\_Bottom & bing\\_search\\_Top & facebook\\_Bottom & facebook\\_Mid & facebook\\_Top & google & bing & fb & top & mid & bottom & date\\\\\n",
       " <dbl> & <dbl> & <dbl> & <dbl> & <dbl> & <dbl> & <dbl> & <dbl> & <dbl> & <dbl> & <dbl> & <dbl> & <dbl> & <dbl> & <dbl> & <date>\\\\\n",
       "\\hline\n",
       "\t 30638.84 & 248.73 &  0.27 & 1286.40 & 17.23 & 49.94 & 121.58 & 220.94 & 5416.81 & 3070.80 & 134.34 & 5759.33 & 13506.30 & 442.42 & 775.08 & 2019-01-01\\\\\n",
       "\t 30134.13 & 209.05 &  1.94 & 1243.62 & 18.18 & 59.97 & 120.67 & 216.65 & 5711.90 & 2909.22 & 156.30 & 6049.22 & 14030.98 & 437.18 & 695.80 & 2019-01-02\\\\\n",
       "\t 31172.54 & 232.55 &  4.58 & 1349.84 & 18.48 & 52.71 & 119.48 & 220.88 & 7191.77 & 3173.94 & 142.38 & 7532.13 & 17188.64 & 450.92 & 741.02 & 2019-01-03\\\\\n",
       "\t 22587.84 & 289.16 &  7.50 & 1229.11 & 23.32 & 58.14 & 118.49 & 197.02 & 7005.19 & 3051.54 & 162.92 & 7320.70 & 16584.88 & 409.04 & 861.94 & 2019-01-04\\\\\n",
       "\t 26166.98 & 281.36 &  2.00 & 1422.20 & 18.90 & 46.91 & 121.03 & 196.41 & 5057.96 & 3411.12 & 131.62 & 5375.40 & 13054.14 & 396.82 & 842.58 & 2019-01-05\\\\\n",
       "\t 32981.04 & 286.91 & 65.37 & 1738.27 & 24.53 & 59.58 & 120.51 & 196.31 & 5010.45 & 4181.10 & 168.22 & 5327.27 & 13616.60 & 523.36 & 863.90 & 2019-01-06\\\\\n",
       "\\end{tabular}\n"
      ],
      "text/markdown": [
       "\n",
       "A data.table: 6 × 16\n",
       "\n",
       "| revenue &lt;dbl&gt; | google_search_Bottom &lt;dbl&gt; | google_search_Mid &lt;dbl&gt; | google_search_Top &lt;dbl&gt; | bing_search_Bottom &lt;dbl&gt; | bing_search_Top &lt;dbl&gt; | facebook_Bottom &lt;dbl&gt; | facebook_Mid &lt;dbl&gt; | facebook_Top &lt;dbl&gt; | google &lt;dbl&gt; | bing &lt;dbl&gt; | fb &lt;dbl&gt; | top &lt;dbl&gt; | mid &lt;dbl&gt; | bottom &lt;dbl&gt; | date &lt;date&gt; |\n",
       "|---|---|---|---|---|---|---|---|---|---|---|---|---|---|---|---|\n",
       "| 30638.84 | 248.73 |  0.27 | 1286.40 | 17.23 | 49.94 | 121.58 | 220.94 | 5416.81 | 3070.80 | 134.34 | 5759.33 | 13506.30 | 442.42 | 775.08 | 2019-01-01 |\n",
       "| 30134.13 | 209.05 |  1.94 | 1243.62 | 18.18 | 59.97 | 120.67 | 216.65 | 5711.90 | 2909.22 | 156.30 | 6049.22 | 14030.98 | 437.18 | 695.80 | 2019-01-02 |\n",
       "| 31172.54 | 232.55 |  4.58 | 1349.84 | 18.48 | 52.71 | 119.48 | 220.88 | 7191.77 | 3173.94 | 142.38 | 7532.13 | 17188.64 | 450.92 | 741.02 | 2019-01-03 |\n",
       "| 22587.84 | 289.16 |  7.50 | 1229.11 | 23.32 | 58.14 | 118.49 | 197.02 | 7005.19 | 3051.54 | 162.92 | 7320.70 | 16584.88 | 409.04 | 861.94 | 2019-01-04 |\n",
       "| 26166.98 | 281.36 |  2.00 | 1422.20 | 18.90 | 46.91 | 121.03 | 196.41 | 5057.96 | 3411.12 | 131.62 | 5375.40 | 13054.14 | 396.82 | 842.58 | 2019-01-05 |\n",
       "| 32981.04 | 286.91 | 65.37 | 1738.27 | 24.53 | 59.58 | 120.51 | 196.31 | 5010.45 | 4181.10 | 168.22 | 5327.27 | 13616.60 | 523.36 | 863.90 | 2019-01-06 |\n",
       "\n"
      ],
      "text/plain": [
       "  revenue  google_search_Bottom google_search_Mid google_search_Top\n",
       "1 30638.84 248.73                0.27             1286.40          \n",
       "2 30134.13 209.05                1.94             1243.62          \n",
       "3 31172.54 232.55                4.58             1349.84          \n",
       "4 22587.84 289.16                7.50             1229.11          \n",
       "5 26166.98 281.36                2.00             1422.20          \n",
       "6 32981.04 286.91               65.37             1738.27          \n",
       "  bing_search_Bottom bing_search_Top facebook_Bottom facebook_Mid facebook_Top\n",
       "1 17.23              49.94           121.58          220.94       5416.81     \n",
       "2 18.18              59.97           120.67          216.65       5711.90     \n",
       "3 18.48              52.71           119.48          220.88       7191.77     \n",
       "4 23.32              58.14           118.49          197.02       7005.19     \n",
       "5 18.90              46.91           121.03          196.41       5057.96     \n",
       "6 24.53              59.58           120.51          196.31       5010.45     \n",
       "  google  bing   fb      top      mid    bottom date      \n",
       "1 3070.80 134.34 5759.33 13506.30 442.42 775.08 2019-01-01\n",
       "2 2909.22 156.30 6049.22 14030.98 437.18 695.80 2019-01-02\n",
       "3 3173.94 142.38 7532.13 17188.64 450.92 741.02 2019-01-03\n",
       "4 3051.54 162.92 7320.70 16584.88 409.04 861.94 2019-01-04\n",
       "5 3411.12 131.62 5375.40 13054.14 396.82 842.58 2019-01-05\n",
       "6 4181.10 168.22 5327.27 13616.60 523.36 863.90 2019-01-06"
      ]
     },
     "metadata": {},
     "output_type": "display_data"
    }
   ],
   "source": [
    "dt_data = fread(\"../data/processed/search_df_select.csv\")\n",
    "head(dt_data, 2)"
   ]
  },
  {
   "cell_type": "code",
   "execution_count": 15,
   "id": "0d6c56d5",
   "metadata": {},
   "outputs": [],
   "source": [
    "robyn_object <- \"Robyn.RData\""
   ]
  },
  {
   "cell_type": "code",
   "execution_count": 38,
   "id": "4d206ede",
   "metadata": {},
   "outputs": [
    {
     "name": "stderr",
     "output_type": "stream",
     "text": [
      "'hyperparameters' are not provided yet. To include them, run robyn_inputs(InputCollect = InputCollect, hyperparameters = ...)\n",
      "\n"
     ]
    }
   ],
   "source": [
    "InputCollect <- robyn_inputs(\n",
    "dt_input = fread(\"../data/processed/search_df_select.csv\")\n",
    ",dt_holidays = dt_prophet_holidays\n",
    ",date_var = \"date\"\n",
    ",dep_var = \"revenue\"\n",
    ",dep_var_type = \"revenue\"\n",
    ",prophet_vars = c(\"trend\", \"season\", \"weekday\")\n",
    ",prophet_signs = c(\"default\",\"default\", \"default\")\n",
    ",prophet_country ='US'\n",
    ",paid_media_vars = c(\"google_search_Bottom\", \"google_search_Mid\", \"google_search_Top\", \"bing_search_Bottom\", \"bing_search_Top\", \"facebook_Bottom\", \"facebook_Mid\", \"facebook_Top\")\n",
    ",paid_media_signs = c(\"positive\", \"positive\",\"positive\", \"positive\", \"positive\",\"positive\", \"positive\",\"positive\")\n",
    ",paid_media_spends = c(\"google_search_Bottom\", \"google_search_Mid\", \"google_search_Top\", \"bing_search_Bottom\", \"bing_search_Top\", \"facebook_Bottom\", \"facebook_Mid\", \"facebook_Top\")\n",
    "\n",
    "# parameters\n",
    ",cores = 3\n",
    ",window_start = \"2019-01-01\"\n",
    ",window_end = \"2021-07-31\"\n",
    "\n",
    "#core model params\n",
    ",adstock = \"geometric\"\n",
    ",iterations = 500\n",
    ",nevergrad_algo = \"TwoPointsDE\"\n",
    ",trials = 5\n",
    ")\n",
    "    "
   ]
  },
  {
   "cell_type": "code",
   "execution_count": 39,
   "id": "6e56e3fb",
   "metadata": {},
   "outputs": [],
   "source": [
    "#hyperparameters\n",
    "\n",
    "#plot_adstock(plot = FALSE)\n",
    "#plot_saturation(plot = FALSE)\n",
    "\n",
    "hyperparameters <- list(\n",
    "  google_search_Bottom_alphas = c(0.5, 3)\n",
    "  ,google_search_Bottom_gammas = c(0.3, 1)\n",
    "  ,google_search_Bottom_thetas = c(0, 0.3)\n",
    "    \n",
    "  ,google_search_Mid_alphas = c(0.5, 3)\n",
    "  ,google_search_Mid_gammas = c(0.3, 1)\n",
    "  ,google_search_Mid_thetas = c(0, 0.3)\n",
    "\n",
    " ,google_search_Top_alphas = c(0.5, 3)\n",
    "  ,google_search_Top_gammas = c(0.3, 1)\n",
    "  ,google_search_Top_thetas = c(0, 0.3)\n",
    "\n",
    "  ,bing_search_Bottom_alphas = c(0.5, 3)\n",
    "  ,bing_search_Bottom_gammas = c(0.3, 1)\n",
    "  ,bing_search_Bottom_thetas = c(0, 0.3)\n",
    "    \n",
    "  ,bing_search_Top_alphas = c(0.5, 3)\n",
    "  ,bing_search_Top_gammas = c(0.3, 1)\n",
    "  ,bing_search_Top_thetas = c(0, 0.3)  \n",
    "    \n",
    "  ,facebook_Bottom_alphas = c(0.5, 3)\n",
    "  ,facebook_Bottom_gammas = c(0.3, 1)\n",
    "  ,facebook_Bottom_thetas = c(0, 0.3)\n",
    "    \n",
    "  ,facebook_Mid_alphas = c(0.5, 3)\n",
    "  ,facebook_Mid_gammas = c(0.3, 1)\n",
    "  ,facebook_Mid_thetas = c(0, 0.3)\n",
    "    \n",
    "  ,facebook_Top_alphas = c(0.5, 3)\n",
    "  ,facebook_Top_gammas = c(0.3, 1)\n",
    "  ,facebook_Top_thetas = c(0, 0.3)\n",
    "    )\n"
   ]
  },
  {
   "cell_type": "code",
   "execution_count": 40,
   "id": "4b6cd137",
   "metadata": {},
   "outputs": [
    {
     "name": "stderr",
     "output_type": "stream",
     "text": [
      "Warning message in check_iteration(InputCollect$calibration_input, InputCollect$iterations, :\n",
      "“We recommend to run at least 2000 iterations per trial and 5 trials to build initial model”\n"
     ]
    }
   ],
   "source": [
    "InputCollect <- robyn_inputs(InputCollect = InputCollect, hyperparameters = hyperparameters)"
   ]
  },
  {
   "cell_type": "code",
   "execution_count": 41,
   "id": "19df9fff",
   "metadata": {},
   "outputs": [
    {
     "name": "stderr",
     "output_type": "stream",
     "text": [
      "Provided 'plot_folder' doesn't exist. Using default 'plot_folder = getwd()': /Users/Jaime/repos/search-for-green/notebooks\n",
      "\n",
      "Input data has 943 days in total: 2019-01-01 to 2021-07-31\n",
      "\n",
      "Initial model is built on rolling window of 943 days: 2019-01-01 to 2021-07-31\n",
      "\n",
      "Using geometric adstocking with 24 hyperparameters & 10-fold ridge x-validation on 3 cores\n",
      "\n",
      ">>> Start running 5 trials with 500 iterations per trial each with TwoPointsDE nevergrad algorithm...\n",
      "\n",
      " Running trial nr. 1\n",
      "\n"
     ]
    },
    {
     "name": "stdout",
     "output_type": "stream",
     "text": [
      "  |======================================================================| 100%"
     ]
    },
    {
     "name": "stderr",
     "output_type": "stream",
     "text": [
      "\n",
      " Finished in 2.99 mins\n",
      "\n"
     ]
    },
    {
     "name": "stdout",
     "output_type": "stream",
     "text": [
      "\n"
     ]
    },
    {
     "name": "stderr",
     "output_type": "stream",
     "text": [
      " Running trial nr. 2\n",
      "\n"
     ]
    },
    {
     "name": "stdout",
     "output_type": "stream",
     "text": [
      "  |======================================================================| 100%"
     ]
    },
    {
     "name": "stderr",
     "output_type": "stream",
     "text": [
      "\n",
      " Finished in 2.89 mins\n",
      "\n"
     ]
    },
    {
     "name": "stdout",
     "output_type": "stream",
     "text": [
      "\n"
     ]
    },
    {
     "name": "stderr",
     "output_type": "stream",
     "text": [
      " Running trial nr. 3\n",
      "\n"
     ]
    },
    {
     "name": "stdout",
     "output_type": "stream",
     "text": [
      "  |======================================================================| 100%"
     ]
    },
    {
     "name": "stderr",
     "output_type": "stream",
     "text": [
      "\n",
      " Finished in 2.83 mins\n",
      "\n"
     ]
    },
    {
     "name": "stdout",
     "output_type": "stream",
     "text": [
      "\n"
     ]
    },
    {
     "name": "stderr",
     "output_type": "stream",
     "text": [
      " Running trial nr. 4\n",
      "\n"
     ]
    },
    {
     "name": "stdout",
     "output_type": "stream",
     "text": [
      "  |======================================================================| 100%"
     ]
    },
    {
     "name": "stderr",
     "output_type": "stream",
     "text": [
      "\n",
      " Finished in 3.08 mins\n",
      "\n"
     ]
    },
    {
     "name": "stdout",
     "output_type": "stream",
     "text": [
      "\n"
     ]
    },
    {
     "name": "stderr",
     "output_type": "stream",
     "text": [
      " Running trial nr. 5\n",
      "\n"
     ]
    },
    {
     "name": "stdout",
     "output_type": "stream",
     "text": [
      "  |======================================================================| 100%"
     ]
    },
    {
     "name": "stderr",
     "output_type": "stream",
     "text": [
      "\n",
      " Finished in 3.89 mins\n",
      "\n"
     ]
    },
    {
     "name": "stdout",
     "output_type": "stream",
     "text": [
      "\n"
     ]
    },
    {
     "name": "stderr",
     "output_type": "stream",
     "text": [
      ">>> Collecting results...\n",
      "\n",
      ">>> Exporting all charts into directory: /Users/Jaime/repos/search-for-green/notebooks/2021-11-09 00.55 init...\n",
      "\n",
      ">>> Plotting summary charts...\n",
      "\n",
      "No spend-exposure modelling needed. all media variables used for mmm are spend variables \n",
      "\n",
      ">>> Plotting 57 Pareto optimum models...\n",
      "\n"
     ]
    },
    {
     "name": "stdout",
     "output_type": "stream",
     "text": [
      "  |======================================================================| 100%"
     ]
    },
    {
     "name": "stderr",
     "output_type": "stream",
     "text": [
      "\n",
      "Total time: 19.96 mins\n",
      "\n"
     ]
    }
   ],
   "source": [
    "OutputCollect <- robyn_run(\n",
    "  InputCollect = InputCollect # feed in all model specification\n",
    "  , plot_folder = robyn_object # plots will be saved in the same folder as robyn_object\n",
    "  , pareto_fronts = 3\n",
    "  , plot_pareto = TRUE\n",
    "  # , calibration_constraint = 0.1 # run ?robyn_run to see description\n",
    "  # , lambda_control = 1 # run ?robyn_run to see description\n",
    "  )"
   ]
  },
  {
   "cell_type": "code",
   "execution_count": 43,
   "id": "25fa11c3",
   "metadata": {},
   "outputs": [
    {
     "data": {
      "text/html": [
       "<style>\n",
       ".list-inline {list-style: none; margin:0; padding: 0}\n",
       ".list-inline>li {display: inline-block}\n",
       ".list-inline>li:not(:last-child)::after {content: \"\\00b7\"; padding: 0 .5ex}\n",
       "</style>\n",
       "<ol class=list-inline><li>'2_118_2'</li><li>'2_122_2'</li><li>'2_135_2'</li><li>'2_140_1'</li><li>'2_155_2'</li><li>'2_80_3'</li><li>'3_158_2'</li><li>'4_141_3'</li><li>'4_153_3'</li><li>'4_154_2'</li><li>'5_115_2'</li><li>'5_145_2'</li><li>'5_151_3'</li><li>'5_158_3'</li><li>'5_164_1'</li><li>'5_166_3'</li><li>'2_145_2'</li><li>'2_60_3'</li><li>'2_90_2'</li><li>'3_125_1'</li><li>'3_165_3'</li><li>'4_157_3'</li><li>'4_166_2'</li><li>'5_101_2'</li><li>'5_102_2'</li><li>'5_112_2'</li><li>'5_132_2'</li><li>'5_141_3'</li><li>'5_160_1'</li><li>'5_162_1'</li><li>'5_162_2'</li><li>'5_79_3'</li><li>'5_82_2'</li><li>'2_107_1'</li><li>'2_115_2'</li><li>'2_137_1'</li><li>'2_54_2'</li><li>'2_85_1'</li><li>'3_148_2'</li><li>'3_164_2'</li><li>'4_151_3'</li><li>'4_153_2'</li><li>'4_157_2'</li><li>'4_161_3'</li><li>'4_163_3'</li><li>'4_165_2'</li><li>'5_111_2'</li><li>'5_119_3'</li><li>'5_122_1'</li><li>'5_122_2'</li><li>'5_123_3'</li><li>'5_124_2'</li><li>'5_136_1'</li><li>'5_154_1'</li><li>'5_158_2'</li><li>'5_165_2'</li><li>'5_167_1'</li></ol>\n"
      ],
      "text/latex": [
       "\\begin{enumerate*}\n",
       "\\item '2\\_118\\_2'\n",
       "\\item '2\\_122\\_2'\n",
       "\\item '2\\_135\\_2'\n",
       "\\item '2\\_140\\_1'\n",
       "\\item '2\\_155\\_2'\n",
       "\\item '2\\_80\\_3'\n",
       "\\item '3\\_158\\_2'\n",
       "\\item '4\\_141\\_3'\n",
       "\\item '4\\_153\\_3'\n",
       "\\item '4\\_154\\_2'\n",
       "\\item '5\\_115\\_2'\n",
       "\\item '5\\_145\\_2'\n",
       "\\item '5\\_151\\_3'\n",
       "\\item '5\\_158\\_3'\n",
       "\\item '5\\_164\\_1'\n",
       "\\item '5\\_166\\_3'\n",
       "\\item '2\\_145\\_2'\n",
       "\\item '2\\_60\\_3'\n",
       "\\item '2\\_90\\_2'\n",
       "\\item '3\\_125\\_1'\n",
       "\\item '3\\_165\\_3'\n",
       "\\item '4\\_157\\_3'\n",
       "\\item '4\\_166\\_2'\n",
       "\\item '5\\_101\\_2'\n",
       "\\item '5\\_102\\_2'\n",
       "\\item '5\\_112\\_2'\n",
       "\\item '5\\_132\\_2'\n",
       "\\item '5\\_141\\_3'\n",
       "\\item '5\\_160\\_1'\n",
       "\\item '5\\_162\\_1'\n",
       "\\item '5\\_162\\_2'\n",
       "\\item '5\\_79\\_3'\n",
       "\\item '5\\_82\\_2'\n",
       "\\item '2\\_107\\_1'\n",
       "\\item '2\\_115\\_2'\n",
       "\\item '2\\_137\\_1'\n",
       "\\item '2\\_54\\_2'\n",
       "\\item '2\\_85\\_1'\n",
       "\\item '3\\_148\\_2'\n",
       "\\item '3\\_164\\_2'\n",
       "\\item '4\\_151\\_3'\n",
       "\\item '4\\_153\\_2'\n",
       "\\item '4\\_157\\_2'\n",
       "\\item '4\\_161\\_3'\n",
       "\\item '4\\_163\\_3'\n",
       "\\item '4\\_165\\_2'\n",
       "\\item '5\\_111\\_2'\n",
       "\\item '5\\_119\\_3'\n",
       "\\item '5\\_122\\_1'\n",
       "\\item '5\\_122\\_2'\n",
       "\\item '5\\_123\\_3'\n",
       "\\item '5\\_124\\_2'\n",
       "\\item '5\\_136\\_1'\n",
       "\\item '5\\_154\\_1'\n",
       "\\item '5\\_158\\_2'\n",
       "\\item '5\\_165\\_2'\n",
       "\\item '5\\_167\\_1'\n",
       "\\end{enumerate*}\n"
      ],
      "text/markdown": [
       "1. '2_118_2'\n",
       "2. '2_122_2'\n",
       "3. '2_135_2'\n",
       "4. '2_140_1'\n",
       "5. '2_155_2'\n",
       "6. '2_80_3'\n",
       "7. '3_158_2'\n",
       "8. '4_141_3'\n",
       "9. '4_153_3'\n",
       "10. '4_154_2'\n",
       "11. '5_115_2'\n",
       "12. '5_145_2'\n",
       "13. '5_151_3'\n",
       "14. '5_158_3'\n",
       "15. '5_164_1'\n",
       "16. '5_166_3'\n",
       "17. '2_145_2'\n",
       "18. '2_60_3'\n",
       "19. '2_90_2'\n",
       "20. '3_125_1'\n",
       "21. '3_165_3'\n",
       "22. '4_157_3'\n",
       "23. '4_166_2'\n",
       "24. '5_101_2'\n",
       "25. '5_102_2'\n",
       "26. '5_112_2'\n",
       "27. '5_132_2'\n",
       "28. '5_141_3'\n",
       "29. '5_160_1'\n",
       "30. '5_162_1'\n",
       "31. '5_162_2'\n",
       "32. '5_79_3'\n",
       "33. '5_82_2'\n",
       "34. '2_107_1'\n",
       "35. '2_115_2'\n",
       "36. '2_137_1'\n",
       "37. '2_54_2'\n",
       "38. '2_85_1'\n",
       "39. '3_148_2'\n",
       "40. '3_164_2'\n",
       "41. '4_151_3'\n",
       "42. '4_153_2'\n",
       "43. '4_157_2'\n",
       "44. '4_161_3'\n",
       "45. '4_163_3'\n",
       "46. '4_165_2'\n",
       "47. '5_111_2'\n",
       "48. '5_119_3'\n",
       "49. '5_122_1'\n",
       "50. '5_122_2'\n",
       "51. '5_123_3'\n",
       "52. '5_124_2'\n",
       "53. '5_136_1'\n",
       "54. '5_154_1'\n",
       "55. '5_158_2'\n",
       "56. '5_165_2'\n",
       "57. '5_167_1'\n",
       "\n",
       "\n"
      ],
      "text/plain": [
       " [1] \"2_118_2\" \"2_122_2\" \"2_135_2\" \"2_140_1\" \"2_155_2\" \"2_80_3\"  \"3_158_2\"\n",
       " [8] \"4_141_3\" \"4_153_3\" \"4_154_2\" \"5_115_2\" \"5_145_2\" \"5_151_3\" \"5_158_3\"\n",
       "[15] \"5_164_1\" \"5_166_3\" \"2_145_2\" \"2_60_3\"  \"2_90_2\"  \"3_125_1\" \"3_165_3\"\n",
       "[22] \"4_157_3\" \"4_166_2\" \"5_101_2\" \"5_102_2\" \"5_112_2\" \"5_132_2\" \"5_141_3\"\n",
       "[29] \"5_160_1\" \"5_162_1\" \"5_162_2\" \"5_79_3\"  \"5_82_2\"  \"2_107_1\" \"2_115_2\"\n",
       "[36] \"2_137_1\" \"2_54_2\"  \"2_85_1\"  \"3_148_2\" \"3_164_2\" \"4_151_3\" \"4_153_2\"\n",
       "[43] \"4_157_2\" \"4_161_3\" \"4_163_3\" \"4_165_2\" \"5_111_2\" \"5_119_3\" \"5_122_1\"\n",
       "[50] \"5_122_2\" \"5_123_3\" \"5_124_2\" \"5_136_1\" \"5_154_1\" \"5_158_2\" \"5_165_2\"\n",
       "[57] \"5_167_1\""
      ]
     },
     "metadata": {},
     "output_type": "display_data"
    },
    {
     "name": "stdout",
     "output_type": "stream",
     "text": [
      "Robyn.RData already exists. Are you certain to overwrite it? (Yes/no/cancel) Yes\n"
     ]
    }
   ],
   "source": [
    "OutputCollect$allSolutions # get all model IDs in result\n",
    "select_model <- \"2_118_2\" # select one from above\n",
    "robyn_save(robyn_object = robyn_object # model object location and name\n",
    "           , select_model = select_model # selected model ID\n",
    "           , InputCollect = InputCollect # all model input\n",
    "           , OutputCollect = OutputCollect # all model output\n",
    ")"
   ]
  },
  {
   "cell_type": "markdown",
   "id": "bea596fb",
   "metadata": {},
   "source": [
    "![Robyn Daily Model](../assets/2_118_2.png)"
   ]
  },
  {
   "cell_type": "markdown",
   "id": "f8ef1b05",
   "metadata": {},
   "source": [
    "## Weekly Model"
   ]
  },
  {
   "cell_type": "code",
   "execution_count": 62,
   "id": "26f4accf",
   "metadata": {},
   "outputs": [],
   "source": [
    "robyn_object <- \"robyn_weekly/Robyn_weekly.RData\""
   ]
  },
  {
   "cell_type": "code",
   "execution_count": 63,
   "id": "4ac38a2d",
   "metadata": {},
   "outputs": [
    {
     "name": "stderr",
     "output_type": "stream",
     "text": [
      "'hyperparameters' are not provided yet. To include them, run robyn_inputs(InputCollect = InputCollect, hyperparameters = ...)\n",
      "\n"
     ]
    }
   ],
   "source": [
    "InputCollect <- robyn_inputs(\n",
    "dt_input = fread(\"../data/processed/weekly.csv\")\n",
    ",dt_holidays = dt_prophet_holidays\n",
    ",date_var = \"date\"\n",
    ",dep_var = \"revenue\"\n",
    ",dep_var_type = \"revenue\"\n",
    ",prophet_vars = c(\"trend\", \"season\")\n",
    ",prophet_signs = c(\"default\",\"default\")\n",
    ",prophet_country ='US'\n",
    ",paid_media_vars = c(\"google_search_Bottom\", \"google_search_Mid\", \"google_search_Top\", \"bing_search_Bottom\", \"bing_search_Top\", \"facebook_Bottom\", \"facebook_Mid\", \"facebook_Top\")\n",
    ",paid_media_signs = c(\"positive\", \"positive\",\"positive\", \"positive\", \"positive\",\"positive\", \"positive\",\"positive\")\n",
    ",paid_media_spends = c(\"google_search_Bottom\", \"google_search_Mid\", \"google_search_Top\", \"bing_search_Bottom\", \"bing_search_Top\", \"facebook_Bottom\", \"facebook_Mid\", \"facebook_Top\")\n",
    "\n",
    "# parameters\n",
    ",cores = 3\n",
    ",window_start = \"2019-01-07\"\n",
    ",window_end = \"2021-08-02\"\n",
    "\n",
    "#core model params\n",
    ",adstock = \"geometric\"\n",
    ",iterations = 500\n",
    ",nevergrad_algo = \"TwoPointsDE\"\n",
    ",trials = 5\n",
    ")\n",
    "    "
   ]
  },
  {
   "cell_type": "code",
   "execution_count": 64,
   "id": "2c0d0a97",
   "metadata": {},
   "outputs": [],
   "source": [
    "#hyperparameters\n",
    "\n",
    "#plot_adstock(plot = FALSE)\n",
    "#plot_saturation(plot = FALSE)\n",
    "\n",
    "hyperparameters <- list(\n",
    "  google_search_Bottom_alphas = c(0.5, 3)\n",
    "  ,google_search_Bottom_gammas = c(0.3, 1)\n",
    "  ,google_search_Bottom_thetas = c(0, 0.3)\n",
    "    \n",
    "  ,google_search_Mid_alphas = c(0.5, 3)\n",
    "  ,google_search_Mid_gammas = c(0.3, 1)\n",
    "  ,google_search_Mid_thetas = c(0, 0.3)\n",
    "\n",
    " ,google_search_Top_alphas = c(0.5, 3)\n",
    "  ,google_search_Top_gammas = c(0.3, 1)\n",
    "  ,google_search_Top_thetas = c(0, 0.3)\n",
    "\n",
    "  ,bing_search_Bottom_alphas = c(0.5, 3)\n",
    "  ,bing_search_Bottom_gammas = c(0.3, 1)\n",
    "  ,bing_search_Bottom_thetas = c(0, 0.3)\n",
    "    \n",
    "  ,bing_search_Top_alphas = c(0.5, 3)\n",
    "  ,bing_search_Top_gammas = c(0.3, 1)\n",
    "  ,bing_search_Top_thetas = c(0, 0.3)  \n",
    "    \n",
    "  ,facebook_Bottom_alphas = c(0.5, 3)\n",
    "  ,facebook_Bottom_gammas = c(0.3, 1)\n",
    "  ,facebook_Bottom_thetas = c(0, 0.3)\n",
    "    \n",
    "  ,facebook_Mid_alphas = c(0.5, 3)\n",
    "  ,facebook_Mid_gammas = c(0.3, 1)\n",
    "  ,facebook_Mid_thetas = c(0, 0.3)\n",
    "    \n",
    "  ,facebook_Top_alphas = c(0.5, 3)\n",
    "  ,facebook_Top_gammas = c(0.3, 1)\n",
    "  ,facebook_Top_thetas = c(0, 0.3)\n",
    "    )\n"
   ]
  },
  {
   "cell_type": "code",
   "execution_count": 65,
   "id": "9ce7024c",
   "metadata": {},
   "outputs": [
    {
     "name": "stderr",
     "output_type": "stream",
     "text": [
      "Warning message in check_iteration(InputCollect$calibration_input, InputCollect$iterations, :\n",
      "“We recommend to run at least 2000 iterations per trial and 5 trials to build initial model”\n"
     ]
    }
   ],
   "source": [
    "InputCollect <- robyn_inputs(InputCollect = InputCollect, hyperparameters = hyperparameters)"
   ]
  },
  {
   "cell_type": "code",
   "execution_count": 66,
   "id": "129c6078",
   "metadata": {},
   "outputs": [
    {
     "name": "stderr",
     "output_type": "stream",
     "text": [
      "Provided 'plot_folder' doesn't exist. Using default 'plot_folder = getwd()': /Users/Jaime/repos/search-for-green/notebooks\n",
      "\n",
      "Input data has 135 weeks in total: 2019-01-07 to 2021-08-02\n",
      "\n",
      "Initial model is built on rolling window of 135 weeks: 2019-01-07 to 2021-08-02\n",
      "\n",
      "Using geometric adstocking with 24 hyperparameters & 10-fold ridge x-validation on 3 cores\n",
      "\n",
      ">>> Start running 5 trials with 500 iterations per trial each with TwoPointsDE nevergrad algorithm...\n",
      "\n",
      " Running trial nr. 1\n",
      "\n"
     ]
    },
    {
     "name": "stdout",
     "output_type": "stream",
     "text": [
      "  |======================================================================| 100%"
     ]
    },
    {
     "name": "stderr",
     "output_type": "stream",
     "text": [
      "\n",
      " Finished in 3.17 mins\n",
      "\n"
     ]
    },
    {
     "name": "stdout",
     "output_type": "stream",
     "text": [
      "\n"
     ]
    },
    {
     "name": "stderr",
     "output_type": "stream",
     "text": [
      " Running trial nr. 2\n",
      "\n"
     ]
    },
    {
     "name": "stdout",
     "output_type": "stream",
     "text": [
      "  |======================================================================| 100%"
     ]
    },
    {
     "name": "stderr",
     "output_type": "stream",
     "text": [
      "\n",
      " Finished in 3.07 mins\n",
      "\n"
     ]
    },
    {
     "name": "stdout",
     "output_type": "stream",
     "text": [
      "\n"
     ]
    },
    {
     "name": "stderr",
     "output_type": "stream",
     "text": [
      " Running trial nr. 3\n",
      "\n"
     ]
    },
    {
     "name": "stdout",
     "output_type": "stream",
     "text": [
      "  |======================================================================| 100%"
     ]
    },
    {
     "name": "stderr",
     "output_type": "stream",
     "text": [
      "\n",
      " Finished in 3.19 mins\n",
      "\n"
     ]
    },
    {
     "name": "stdout",
     "output_type": "stream",
     "text": [
      "\n"
     ]
    },
    {
     "name": "stderr",
     "output_type": "stream",
     "text": [
      " Running trial nr. 4\n",
      "\n"
     ]
    },
    {
     "name": "stdout",
     "output_type": "stream",
     "text": [
      "  |======================================================================| 100%"
     ]
    },
    {
     "name": "stderr",
     "output_type": "stream",
     "text": [
      "\n",
      " Finished in 3.66 mins\n",
      "\n"
     ]
    },
    {
     "name": "stdout",
     "output_type": "stream",
     "text": [
      "\n"
     ]
    },
    {
     "name": "stderr",
     "output_type": "stream",
     "text": [
      " Running trial nr. 5\n",
      "\n"
     ]
    },
    {
     "name": "stdout",
     "output_type": "stream",
     "text": [
      "  |======================================================================| 100%"
     ]
    },
    {
     "name": "stderr",
     "output_type": "stream",
     "text": [
      "\n",
      " Finished in 3.52 mins\n",
      "\n"
     ]
    },
    {
     "name": "stdout",
     "output_type": "stream",
     "text": [
      "\n"
     ]
    },
    {
     "name": "stderr",
     "output_type": "stream",
     "text": [
      ">>> Collecting results...\n",
      "\n",
      ">>> Exporting all charts into directory: /Users/Jaime/repos/search-for-green/notebooks/2021-11-09 04.02 init...\n",
      "\n",
      ">>> Plotting summary charts...\n",
      "\n",
      "No spend-exposure modelling needed. all media variables used for mmm are spend variables \n",
      "\n",
      ">>> Plotting 43 Pareto optimum models...\n",
      "\n"
     ]
    },
    {
     "name": "stdout",
     "output_type": "stream",
     "text": [
      "  |======================================================================| 100%"
     ]
    },
    {
     "name": "stderr",
     "output_type": "stream",
     "text": [
      "\n",
      "Total time: 20.24 mins\n",
      "\n"
     ]
    }
   ],
   "source": [
    "OutputCollect <- robyn_run(\n",
    "  InputCollect = InputCollect # feed in all model specification\n",
    "  , plot_folder = robyn_object # plots will be saved in the same folder as robyn_object\n",
    "  , pareto_fronts = 3\n",
    "  , plot_pareto = TRUE\n",
    "  # , calibration_constraint = 0.1 # run ?robyn_run to see description\n",
    "  # , lambda_control = 1 # run ?robyn_run to see description\n",
    "  )"
   ]
  },
  {
   "cell_type": "code",
   "execution_count": 68,
   "id": "c841b973",
   "metadata": {},
   "outputs": [
    {
     "data": {
      "text/html": [
       "<style>\n",
       ".list-inline {list-style: none; margin:0; padding: 0}\n",
       ".list-inline>li {display: inline-block}\n",
       ".list-inline>li:not(:last-child)::after {content: \"\\00b7\"; padding: 0 .5ex}\n",
       "</style>\n",
       "<ol class=list-inline><li>'2_117_1'</li><li>'2_145_1'</li><li>'2_154_3'</li><li>'3_149_2'</li><li>'3_155_2'</li><li>'3_162_3'</li><li>'3_165_2'</li><li>'3_76_3'</li><li>'3_96_1'</li><li>'3_99_3'</li><li>'4_135_1'</li><li>'2_134_1'</li><li>'2_134_3'</li><li>'2_95_1'</li><li>'3_129_3'</li><li>'3_135_2'</li><li>'3_137_1'</li><li>'3_141_2'</li><li>'3_154_1'</li><li>'3_156_1'</li><li>'3_163_1'</li><li>'3_163_3'</li><li>'3_165_1'</li><li>'3_79_3'</li><li>'3_95_2'</li><li>'4_133_1'</li><li>'4_55_3'</li><li>'5_127_2'</li><li>'2_114_1'</li><li>'2_144_1'</li><li>'3_127_3'</li><li>'3_144_1'</li><li>'3_148_3'</li><li>'3_163_2'</li><li>'3_69_3'</li><li>'4_118_3'</li><li>'4_123_1'</li><li>'4_138_3'</li><li>'4_147_3'</li><li>'4_152_3'</li><li>'4_79_3'</li><li>'5_101_3'</li><li>'5_111_3'</li></ol>\n"
      ],
      "text/latex": [
       "\\begin{enumerate*}\n",
       "\\item '2\\_117\\_1'\n",
       "\\item '2\\_145\\_1'\n",
       "\\item '2\\_154\\_3'\n",
       "\\item '3\\_149\\_2'\n",
       "\\item '3\\_155\\_2'\n",
       "\\item '3\\_162\\_3'\n",
       "\\item '3\\_165\\_2'\n",
       "\\item '3\\_76\\_3'\n",
       "\\item '3\\_96\\_1'\n",
       "\\item '3\\_99\\_3'\n",
       "\\item '4\\_135\\_1'\n",
       "\\item '2\\_134\\_1'\n",
       "\\item '2\\_134\\_3'\n",
       "\\item '2\\_95\\_1'\n",
       "\\item '3\\_129\\_3'\n",
       "\\item '3\\_135\\_2'\n",
       "\\item '3\\_137\\_1'\n",
       "\\item '3\\_141\\_2'\n",
       "\\item '3\\_154\\_1'\n",
       "\\item '3\\_156\\_1'\n",
       "\\item '3\\_163\\_1'\n",
       "\\item '3\\_163\\_3'\n",
       "\\item '3\\_165\\_1'\n",
       "\\item '3\\_79\\_3'\n",
       "\\item '3\\_95\\_2'\n",
       "\\item '4\\_133\\_1'\n",
       "\\item '4\\_55\\_3'\n",
       "\\item '5\\_127\\_2'\n",
       "\\item '2\\_114\\_1'\n",
       "\\item '2\\_144\\_1'\n",
       "\\item '3\\_127\\_3'\n",
       "\\item '3\\_144\\_1'\n",
       "\\item '3\\_148\\_3'\n",
       "\\item '3\\_163\\_2'\n",
       "\\item '3\\_69\\_3'\n",
       "\\item '4\\_118\\_3'\n",
       "\\item '4\\_123\\_1'\n",
       "\\item '4\\_138\\_3'\n",
       "\\item '4\\_147\\_3'\n",
       "\\item '4\\_152\\_3'\n",
       "\\item '4\\_79\\_3'\n",
       "\\item '5\\_101\\_3'\n",
       "\\item '5\\_111\\_3'\n",
       "\\end{enumerate*}\n"
      ],
      "text/markdown": [
       "1. '2_117_1'\n",
       "2. '2_145_1'\n",
       "3. '2_154_3'\n",
       "4. '3_149_2'\n",
       "5. '3_155_2'\n",
       "6. '3_162_3'\n",
       "7. '3_165_2'\n",
       "8. '3_76_3'\n",
       "9. '3_96_1'\n",
       "10. '3_99_3'\n",
       "11. '4_135_1'\n",
       "12. '2_134_1'\n",
       "13. '2_134_3'\n",
       "14. '2_95_1'\n",
       "15. '3_129_3'\n",
       "16. '3_135_2'\n",
       "17. '3_137_1'\n",
       "18. '3_141_2'\n",
       "19. '3_154_1'\n",
       "20. '3_156_1'\n",
       "21. '3_163_1'\n",
       "22. '3_163_3'\n",
       "23. '3_165_1'\n",
       "24. '3_79_3'\n",
       "25. '3_95_2'\n",
       "26. '4_133_1'\n",
       "27. '4_55_3'\n",
       "28. '5_127_2'\n",
       "29. '2_114_1'\n",
       "30. '2_144_1'\n",
       "31. '3_127_3'\n",
       "32. '3_144_1'\n",
       "33. '3_148_3'\n",
       "34. '3_163_2'\n",
       "35. '3_69_3'\n",
       "36. '4_118_3'\n",
       "37. '4_123_1'\n",
       "38. '4_138_3'\n",
       "39. '4_147_3'\n",
       "40. '4_152_3'\n",
       "41. '4_79_3'\n",
       "42. '5_101_3'\n",
       "43. '5_111_3'\n",
       "\n",
       "\n"
      ],
      "text/plain": [
       " [1] \"2_117_1\" \"2_145_1\" \"2_154_3\" \"3_149_2\" \"3_155_2\" \"3_162_3\" \"3_165_2\"\n",
       " [8] \"3_76_3\"  \"3_96_1\"  \"3_99_3\"  \"4_135_1\" \"2_134_1\" \"2_134_3\" \"2_95_1\" \n",
       "[15] \"3_129_3\" \"3_135_2\" \"3_137_1\" \"3_141_2\" \"3_154_1\" \"3_156_1\" \"3_163_1\"\n",
       "[22] \"3_163_3\" \"3_165_1\" \"3_79_3\"  \"3_95_2\"  \"4_133_1\" \"4_55_3\"  \"5_127_2\"\n",
       "[29] \"2_114_1\" \"2_144_1\" \"3_127_3\" \"3_144_1\" \"3_148_3\" \"3_163_2\" \"3_69_3\" \n",
       "[36] \"4_118_3\" \"4_123_1\" \"4_138_3\" \"4_147_3\" \"4_152_3\" \"4_79_3\"  \"5_101_3\"\n",
       "[43] \"5_111_3\""
      ]
     },
     "metadata": {},
     "output_type": "display_data"
    }
   ],
   "source": [
    "# Save model 3_165_2\n",
    "OutputCollect$allSolutions # get all model IDs in result\n",
    "select_model <- \"3_165_2\" # select one from above\n",
    "robyn_save(robyn_object = robyn_object # model object location and name\n",
    "           , select_model = select_model # selected model ID\n",
    "           , InputCollect = InputCollect # all model input\n",
    "           , OutputCollect = OutputCollect # all model output\n",
    ")"
   ]
  },
  {
   "cell_type": "markdown",
   "id": "404c3152",
   "metadata": {},
   "source": [
    "![Robyn Weekly Model](../assets/3_165_2.png)"
   ]
  },
  {
   "cell_type": "code",
   "execution_count": null,
   "id": "c86970a0",
   "metadata": {},
   "outputs": [],
   "source": []
  },
  {
   "cell_type": "code",
   "execution_count": null,
   "id": "1c4fee6a",
   "metadata": {},
   "outputs": [],
   "source": [
    "\n",
    "\n",
    "\n",
    "\n",
    "\n",
    "\n",
    "\n",
    "\n",
    "\n",
    "\n",
    "\n",
    "\n",
    "\n",
    "\n",
    "\n",
    "\n",
    "\n",
    "\n",
    "\n",
    "\n",
    "\n",
    "\n",
    "\n",
    "\n",
    "\n"
   ]
  }
 ],
 "metadata": {
  "hide_input": false,
  "kernelspec": {
   "display_name": "R",
   "language": "R",
   "name": "ir"
  },
  "language_info": {
   "codemirror_mode": "r",
   "file_extension": ".r",
   "mimetype": "text/x-r-source",
   "name": "R",
   "pygments_lexer": "r",
   "version": "4.1.1"
  },
  "toc": {
   "base_numbering": 1,
   "nav_menu": {},
   "number_sections": true,
   "sideBar": true,
   "skip_h1_title": false,
   "title_cell": "Table of Contents",
   "title_sidebar": "Contents",
   "toc_cell": false,
   "toc_position": {},
   "toc_section_display": true,
   "toc_window_display": false
  }
 },
 "nbformat": 4,
 "nbformat_minor": 5
}
